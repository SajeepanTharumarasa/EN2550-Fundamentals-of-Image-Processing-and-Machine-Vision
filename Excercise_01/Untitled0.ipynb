{
  "nbformat": 4,
  "nbformat_minor": 0,
  "metadata": {
    "colab": {
      "name": "Untitled0.ipynb",
      "provenance": []
    },
    "kernelspec": {
      "name": "python3",
      "display_name": "Python 3"
    },
    "language_info": {
      "name": "python"
    }
  },
  "cells": [
    {
      "cell_type": "markdown",
      "source": [
        "Name :T.sajeepan\n",
        "\n",
        "INDEX NO:190539T\n"
      ],
      "metadata": {
        "id": "2CWBf_Rho8vu"
      }
    },
    {
      "cell_type": "code",
      "source": [
        "for i in range(1,6):\n",
        "  print(i,':',i**2)\n",
        "  "
      ],
      "metadata": {
        "colab": {
          "base_uri": "https://localhost:8080/"
        },
        "id": "RwwVphLyhdWE",
        "outputId": "629b7922-fea8-4d66-ce74-160e4a0667a6"
      },
      "execution_count": 6,
      "outputs": [
        {
          "output_type": "stream",
          "name": "stdout",
          "text": [
            "1 : 1\n",
            "2 : 4\n",
            "3 : 9\n",
            "4 : 16\n",
            "5 : 25\n"
          ]
        }
      ]
    },
    {
      "cell_type": "code",
      "source": [
        "import sympy"
      ],
      "metadata": {
        "id": "vRd-1Qj4h3rX"
      },
      "execution_count": 7,
      "outputs": []
    },
    {
      "cell_type": "code",
      "source": [
        "for i in range(1,6):\n",
        "  if not (sympy.isprime(i)):\n",
        "    print(i,':',i**2)\n"
      ],
      "metadata": {
        "colab": {
          "base_uri": "https://localhost:8080/"
        },
        "id": "ejVYWQpQiGAF",
        "outputId": "776d8487-789e-45eb-bd6d-4ad7db41fe82"
      },
      "execution_count": 8,
      "outputs": [
        {
          "output_type": "stream",
          "name": "stdout",
          "text": [
            "1 : 1\n",
            "4 : 16\n"
          ]
        }
      ]
    },
    {
      "cell_type": "code",
      "source": [
        "squares = [i**2 for i in range(1,6)]\n",
        "for i, i2 in enumerate(squares):\n",
        "  print(i,':',squares[i])"
      ],
      "metadata": {
        "colab": {
          "base_uri": "https://localhost:8080/"
        },
        "id": "oqh0c5XUi0Z8",
        "outputId": "9cc0bfdc-85f9-4ea5-ffea-a0917303fe14"
      },
      "execution_count": 9,
      "outputs": [
        {
          "output_type": "stream",
          "name": "stdout",
          "text": [
            "0 : 1\n",
            "1 : 4\n",
            "2 : 9\n",
            "3 : 16\n",
            "4 : 25\n"
          ]
        }
      ]
    },
    {
      "cell_type": "code",
      "source": [
        "import numpy as np\n",
        "import matplotlib.pyplot as plt"
      ],
      "metadata": {
        "id": "TSyWbfSvlJ70"
      },
      "execution_count": 10,
      "outputs": []
    },
    {
      "cell_type": "code",
      "source": [
        "A=np.array([[1,2],[3,4],[5,6]])\n",
        "B=np.array([[7,8,9,1],[1,2,3,4]])\n",
        "print(np.dot(A,B))\n",
        "#A@B"
      ],
      "metadata": {
        "colab": {
          "base_uri": "https://localhost:8080/"
        },
        "id": "avhmGAhplN0f",
        "outputId": "651f4871-4ef1-42c5-e81a-b72ab95ce0dc"
      },
      "execution_count": 11,
      "outputs": [
        {
          "output_type": "stream",
          "name": "stdout",
          "text": [
            "[[ 9 12 15  9]\n",
            " [25 32 39 19]\n",
            " [41 52 63 29]]\n"
          ]
        }
      ]
    },
    {
      "cell_type": "code",
      "source": [
        "C=([[1,2],[3,4],[5,6]])\n",
        "D=([[3,2],[5,4],[3,1]])\n",
        "print(np.multiply(C,D))"
      ],
      "metadata": {
        "colab": {
          "base_uri": "https://localhost:8080/"
        },
        "id": "VKS_2Rgbl--F",
        "outputId": "a2624160-8e9c-4b92-e86f-8f3895ed2ba0"
      },
      "execution_count": null,
      "outputs": [
        {
          "output_type": "stream",
          "name": "stdout",
          "text": [
            "[[ 3  4]\n",
            " [15 16]\n",
            " [15  6]]\n"
          ]
        }
      ]
    },
    {
      "cell_type": "code",
      "source": [
        "test_array=np.random.randint(10, size=(5, 7))\n",
        "sub_array=test_array[2:4,3:4]\n",
        "print(sub_array)\n",
        "print(test_array)"
      ],
      "metadata": {
        "colab": {
          "base_uri": "https://localhost:8080/"
        },
        "id": "QAbBLxmQ04HC",
        "outputId": "65db4d35-c3eb-4e70-b59e-646e35a2e14b"
      },
      "execution_count": null,
      "outputs": [
        {
          "output_type": "stream",
          "name": "stdout",
          "text": [
            "[[0]\n",
            " [4]]\n",
            "[[5 7 3 0 9 2 8]\n",
            " [3 7 0 0 2 6 1]\n",
            " [1 1 3 0 8 0 9]\n",
            " [3 6 1 4 6 5 8]\n",
            " [1 9 5 5 2 1 1]]\n"
          ]
        }
      ]
    },
    {
      "cell_type": "code",
      "source": [
        "# one dimensional array addtion\n",
        "A=np.array([1,2,3])\n",
        "B=np.array([5,6,7])\n",
        "\n",
        "print('one dimensional array addtion')\n",
        "print(A+B)\n",
        "# scalar and two-dimensional\n",
        "S=2\n",
        "C=np.array([[1,2,3],[7,6,5]])\n",
        "print('scalar and two-dimensional')\n",
        "print(C+S)\n",
        "\n",
        "#one-dimensional and two-dimensional array addition\n",
        "print('one-dimensional and two-dimensional array addition')\n",
        "print(C+A)\n"
      ],
      "metadata": {
        "colab": {
          "base_uri": "https://localhost:8080/"
        },
        "id": "QTwityAsGg33",
        "outputId": "5deb1299-00d3-4a6a-8a7e-99e665227d9e"
      },
      "execution_count": null,
      "outputs": [
        {
          "output_type": "stream",
          "name": "stdout",
          "text": [
            "one dimensional array addtion\n",
            "[ 6  8 10]\n",
            "scalar and two-dimensional\n",
            "[[3 4 5]\n",
            " [9 8 7]]\n",
            "one-dimensional and two-dimensional array addition\n",
            "[[2 4 6]\n",
            " [8 8 8]]\n"
          ]
        }
      ]
    },
    {
      "cell_type": "code",
      "source": [
        "m,c =2, -4\n",
        "N = 10\n",
        "x = np.linspace (0,N-1,N).reshape (N, 1 )\n",
        "sigma = 10\n",
        "y = m*x + c + np.random.normal(0,sigma,(N, 1 ) )\n",
        "\n",
        "plt.scatter(x,y)\n",
        "\n",
        "X =np.append(np.ones(N,1),x,axis=1)\n",
        "w=linalg"
      ],
      "metadata": {
        "colab": {
          "base_uri": "https://localhost:8080/",
          "height": 283
        },
        "id": "e2ZMfCkxpY9B",
        "outputId": "c2573eb3-9521-4af6-f141-407cf9817fa9"
      },
      "execution_count": null,
      "outputs": [
        {
          "output_type": "execute_result",
          "data": {
            "text/plain": [
              "<matplotlib.collections.PathCollection at 0x7efe9b2cb850>"
            ]
          },
          "metadata": {},
          "execution_count": 20
        },
        {
          "output_type": "display_data",
          "data": {
            "image/png": "[encoded data removed]",
            "text/plain": [
              "<Figure size 432x288 with 1 Axes>"
            ]
          },
          "metadata": {
            "needs_background": "light"
          }
        }
      ]
    },
    {
      "cell_type": "code",
      "source": [
        "from google.colab import drive\n",
        "drive.mount('/content/drive')"
      ],
      "metadata": {
        "colab": {
          "base_uri": "https://localhost:8080/"
        },
        "id": "gpRwgnRurjH_",
        "outputId": "1a389876-a2ae-4858-ca1c-c99b1c415d9a"
      },
      "execution_count": 12,
      "outputs": [
        {
          "output_type": "stream",
          "name": "stdout",
          "text": [
            "Drive already mounted at /content/drive; to attempt to forcibly remount, call drive.mount(\"/content/drive\", force_remount=True).\n"
          ]
        }
      ]
    },
    {
      "cell_type": "code",
      "source": [
        "% cd /content/drive/MyDrive/University/'EN2550 - Fundamentals of Image Processing and Machine Vision'/Exercise_01\n"
      ],
      "metadata": {
        "colab": {
          "base_uri": "https://localhost:8080/"
        },
        "id": "jLMA_AP1rpr0",
        "outputId": "033ac38d-b101-41c7-93e9-9d61b4f3049e"
      },
      "execution_count": 21,
      "outputs": [
        {
          "output_type": "stream",
          "name": "stdout",
          "text": [
            "/content/drive/MyDrive/University/EN2550 - Fundamentals of Image Processing and Machine Vision/Exercise_01\n"
          ]
        }
      ]
    },
    {
      "cell_type": "code",
      "source": [
        "import cv2 as cv\n",
        "\n",
        "im = cv.imread(r'gal_sandp.png')\n",
        "blur = cv.GaussianBlur(im,(5,5),0)\n",
        "#assert im is not None\n",
        "\n",
        "cv.namedWindow('Image',im)\n",
        "cv.waitkey(0)\n",
        "cv.imshow('Image',blur)\n",
        "cv.waitKey(0)\n",
        "cv.destroyAllWindows()"
      ],
      "metadata": {
        "colab": {
          "base_uri": "https://localhost:8080/",
          "height": 241
        },
        "id": "zNzQk5Mpq95v",
        "outputId": "8a8af2a2-68d7-40bb-ca49-ffaf79ac4fcd"
      },
      "execution_count": 24,
      "outputs": [
        {
          "output_type": "error",
          "ename": "TypeError",
          "evalue": "ignored",
          "traceback": [
            "\u001b[0;31m---------------------------------------------------------------------------\u001b[0m",
            "\u001b[0;31mTypeError\u001b[0m                                 Traceback (most recent call last)",
            "\u001b[0;32m<ipython-input-24-010acdedfa24>\u001b[0m in \u001b[0;36m<module>\u001b[0;34m()\u001b[0m\n\u001b[1;32m      5\u001b[0m \u001b[0;31m#assert im is not None\u001b[0m\u001b[0;34m\u001b[0m\u001b[0;34m\u001b[0m\u001b[0;34m\u001b[0m\u001b[0m\n\u001b[1;32m      6\u001b[0m \u001b[0;34m\u001b[0m\u001b[0m\n\u001b[0;32m----> 7\u001b[0;31m \u001b[0mcv\u001b[0m\u001b[0;34m.\u001b[0m\u001b[0mnamedWindow\u001b[0m\u001b[0;34m(\u001b[0m\u001b[0;34m'Image'\u001b[0m\u001b[0;34m,\u001b[0m\u001b[0mim\u001b[0m\u001b[0;34m)\u001b[0m\u001b[0;34m\u001b[0m\u001b[0;34m\u001b[0m\u001b[0m\n\u001b[0m\u001b[1;32m      8\u001b[0m \u001b[0mcv\u001b[0m\u001b[0;34m.\u001b[0m\u001b[0mwaitkey\u001b[0m\u001b[0;34m(\u001b[0m\u001b[0;36m0\u001b[0m\u001b[0;34m)\u001b[0m\u001b[0;34m\u001b[0m\u001b[0;34m\u001b[0m\u001b[0m\n\u001b[1;32m      9\u001b[0m \u001b[0mcv\u001b[0m\u001b[0;34m.\u001b[0m\u001b[0mimshow\u001b[0m\u001b[0;34m(\u001b[0m\u001b[0;34m'Image'\u001b[0m\u001b[0;34m,\u001b[0m\u001b[0mblur\u001b[0m\u001b[0;34m)\u001b[0m\u001b[0;34m\u001b[0m\u001b[0;34m\u001b[0m\u001b[0m\n",
            "\u001b[0;31mTypeError\u001b[0m: only size-1 arrays can be converted to Python scalars"
          ]
        }
      ]
    }
  ]
}