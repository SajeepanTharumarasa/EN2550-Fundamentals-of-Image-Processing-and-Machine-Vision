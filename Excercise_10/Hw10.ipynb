{
 "cells": [
  {
   "cell_type": "code",
   "execution_count": 1,
   "metadata": {},
   "outputs": [
    {
     "name": "stdout",
     "output_type": "stream",
     "text": [
      "x =  2.5104174088324025 f(x)= -9.073558171240812\n"
     ]
    },
    {
     "data": {
      "image/png": "[encoded data removed]",
      "text/plain": [
       "<Figure size 864x432 with 1 Axes>"
      ]
     },
     "metadata": {
      "needs_background": "light"
     },
     "output_type": "display_data"
    }
   ],
   "source": [
    "import numpy as np\n",
    "import matplotlib.pyplot as plt\n",
    "\n",
    "def f(x):\n",
    "    w = np.array([1, -1, -12, 15, 5])\n",
    "    M = np.size(w) -1\n",
    "    return np.sum([x**i*w[M-i] for i in range(0, M+1)], axis=0)\n",
    "\n",
    "def g(x):\n",
    "    w = np.array([1, -1, -12, 15, 5])\n",
    "    M = np.size(w) -1 \n",
    "    return np.sum([i*x**(i-1)*w[M-i] for i in range(0, M+1)], axis=0) \n",
    " \n",
    "\n",
    "alpha= 0.02\n",
    "x = 0.62\n",
    "x_hist= np.array(x)\n",
    "fx_hist= np.array(f(x)) \n",
    "for i in range(20):\n",
    "    x = x - alpha*g(x) \n",
    "    x_hist = np.append(x_hist, x)\n",
    "    fx_hist= np.append(fx_hist, f(x))\n",
    "\n",
    "print('x = ',x,'f(x)=',f(x))\n",
    "fig = plt.figure(figsize=(12,6)) \n",
    "ax =  plt.subplot (1,1,1)\n",
    "delta = 0.1\n",
    "x_ = np.arange(-4, 4+ delta, delta) \n",
    "ax.plot(x_, f(x_)) \n",
    "#ax.plot(x, g(x)) \n",
    "ax.scatter(x_hist, fx_hist, c='r')\n",
    "plt.show()"
   ]
  },
  {
   "cell_type": "code",
   "execution_count": 2,
   "metadata": {},
   "outputs": [
    {
     "name": "stdout",
     "output_type": "stream",
     "text": [
      "[0.61654501]\n",
      "      fun: -9.083837308516003\n",
      " hess_inv: array([[0.02625725]])\n",
      "      jac: array([-7.62939453e-06])\n",
      "  message: 'Optimization terminated successfully.'\n",
      "     nfev: 16\n",
      "      nit: 3\n",
      "     njev: 8\n",
      "   status: 0\n",
      "  success: True\n",
      "        x: array([2.53385793])\n"
     ]
    }
   ],
   "source": [
    "#finding a root close to x0\n",
    "from scipy.optimize import fsolve\n",
    "from scipy.optimize import minimize\n",
    "x0=0.7\n",
    "root=fsolve(g,x0)#gradient is zero at this point\n",
    "print(root)\n",
    "#using scipy to find the minimum\n",
    "minimum=minimize(f,x0)\n",
    "print(minimum)"
   ]
  },
  {
   "cell_type": "code",
   "execution_count": 3,
   "metadata": {},
   "outputs": [
    {
     "ename": "ModuleNotFoundError",
     "evalue": "No module named 'tensorflow'",
     "output_type": "error",
     "traceback": [
      "\u001b[1;31m---------------------------------------------------------------------------\u001b[0m",
      "\u001b[1;31mModuleNotFoundError\u001b[0m                       Traceback (most recent call last)",
      "\u001b[1;32m<ipython-input-3-6610bfa1d020>\u001b[0m in \u001b[0;36m<module>\u001b[1;34m\u001b[0m\n\u001b[0;32m      1\u001b[0m \u001b[1;32mimport\u001b[0m \u001b[0mnumpy\u001b[0m \u001b[1;32mas\u001b[0m \u001b[0mnp\u001b[0m\u001b[1;33m\u001b[0m\u001b[1;33m\u001b[0m\u001b[0m\n\u001b[1;32m----> 2\u001b[1;33m \u001b[1;32mimport\u001b[0m \u001b[0mtensorflow\u001b[0m \u001b[1;32mas\u001b[0m \u001b[0mtf\u001b[0m\u001b[1;33m\u001b[0m\u001b[1;33m\u001b[0m\u001b[0m\n\u001b[0m\u001b[0;32m      3\u001b[0m \u001b[1;32mfrom\u001b[0m \u001b[0mtensorflow\u001b[0m \u001b[1;32mimport\u001b[0m \u001b[0mkeras\u001b[0m\u001b[1;33m\u001b[0m\u001b[1;33m\u001b[0m\u001b[0m\n\u001b[0;32m      4\u001b[0m \u001b[1;32mimport\u001b[0m \u001b[0mmatplotlib\u001b[0m\u001b[1;33m.\u001b[0m\u001b[0mpyplot\u001b[0m \u001b[1;32mas\u001b[0m \u001b[0mplt\u001b[0m\u001b[1;33m\u001b[0m\u001b[1;33m\u001b[0m\u001b[0m\n\u001b[0;32m      5\u001b[0m \u001b[1;32mfrom\u001b[0m \u001b[0mtensorflow\u001b[0m\u001b[1;33m.\u001b[0m\u001b[0mkeras\u001b[0m\u001b[1;33m.\u001b[0m\u001b[0mdatasets\u001b[0m \u001b[1;32mimport\u001b[0m \u001b[0mcifar10\u001b[0m \u001b[1;33m,\u001b[0m \u001b[0mmnist\u001b[0m\u001b[1;33m\u001b[0m\u001b[1;33m\u001b[0m\u001b[0m\n",
      "\u001b[1;31mModuleNotFoundError\u001b[0m: No module named 'tensorflow'"
     ]
    }
   ],
   "source": [
    "import numpy as np\n",
    "import tensorflow as tf\n",
    "from tensorflow import keras\n",
    "import matplotlib.pyplot as plt\n",
    "from tensorflow.keras.datasets import cifar10 , mnist\n",
    "\n",
    "(x_train ,y_train), (x_test,y_test) = cifar10.load_data( )\n",
    "# ( x_train , y_train ) , ( x_test , y_test ) = mnist . load_data ( )\n",
    "print (\" x_train => \", x_train.shape)\n",
    "\n",
    "Ntr = x_train.shape[0]\n",
    "Nte = x_test.shape[0]\n",
    "Din = 3072 # CIFAR10\n",
    "# Din = 784 # MINIST\n",
    "x_train = x_train[range(Ntr) , :]\n",
    "x_test = x_test[range(Nte) , :]\n",
    "y_train = y_train[range(Ntr)]\n",
    "y_test = y_test[range(Nte)]\n",
    "\n",
    "K=len(np.unique(y_train))\n",
    "\n",
    "y_train = tf.keras.utils.to_categorical(y_train,num_classes=K)\n",
    "y_test = tf.keras.utils.to_categorical(y_test,num_classes=K)\n",
    "\n",
    "x_train = np.reshape(x_train,(Ntr,Din))\n",
    "x_test = np.reshape(x_test,(Nte,Din))\n",
    "x_train = x_train.astype(np.float32)\n",
    "x_test = x_test.astype(np.float32)\n",
    "x_train/=255.\n",
    "x_test/=255."
   ]
  },
  {
   "cell_type": "code",
   "execution_count": 4,
   "metadata": {},
   "outputs": [],
   "source": [
    "# Utility function for diaplaying\n",
    "def display(y_train, y_test, y_train_pred, y_test_pred, loss_history, w, showim = True):\n",
    "    plt.plot(loss_history)\n",
    "\n",
    "\n",
    "     # For diapaying the weights matrix w as an image. 32*32*3 assumption is there\n",
    "    if showim:\n",
    "        f, axarr = plt.subplots(2, 5)\n",
    "        f.set_size_inches(16, 6)        \n",
    "        for i in range(10):\n",
    "            img = w[:, i].reshape(32, 32, 3)# CIFAR10\n",
    "            # img = w1[:, i].reshape(28, 28)# MNIST    \n",
    "            img = (img - np.amin(img))/(np.amax(img) - np.amin(img))\n",
    "            axarr[i//5, i%5].imshow(img)\n",
    "        plt.show()\n",
    "\n",
    "    train_acc = np.mean(np.abs(np.argmax(y_train, axis=1) == np.argmax(y_train_pred, axis=1)))\n",
    "    print(\"train_acc = \", train_acc)\n",
    "\n",
    "    test_acc = np.mean(np.abs(np.argmax(y_test, axis=1) == np.argmax(y_test_pred, axis=1)))\n",
    "    print(\"test_acc = \", test_acc)\n"
   ]
  },
  {
   "cell_type": "code",
   "execution_count": null,
   "metadata": {},
   "outputs": [],
   "source": [
    "std = 1e-5\n",
    "w = std*np.random.randn(Din, K)\n",
    "b = np.zeros(K)\n",
    "lr = 1e-3\n",
    "lr_decay=0.1\n",
    "epochs = 11\n",
    "batch_size = 100\n",
    "loss_hist = []\n",
    "rng = np.random.default_rng(seed = 0)\n",
    "\n",
    "for e in range(epochs):\n",
    "    indices = np.arange(Ntr)\n",
    "    rng.shuffle(indices)\n",
    "    \n",
    "    for batch in range(Ntr//batch_size):\n",
    "        batch_indices = indices[batch*batch_size:(batch+1)*batch_size]\n",
    "        x = x_train[batch_indices]\n",
    "        y = t_train[batch_indices]\n",
    "\n",
    "    #forward pass\n",
    "    y_pred = x@w + b\n",
    "    loss = 1./batch_size*np.square(y_pred-y).sum()\n",
    "    loss_hist.append(loss)\n",
    "\n",
    "    #backward pass\n",
    "    dy_pred = 1./batch_size* (2.0*(y_pred - y))\n",
    "    dw = x.T @ dy_pred\n",
    "    db = dy_pred.sum(axis = 0)*1\n",
    "    w = w - lr*dw \n",
    "    b = b - lr*db\n",
    "\n",
    "    if e % 5 == 0:\n",
    "        print(\"Iteration %d / %d: loss %f\"%(e, epochs,loss))\n",
    "    if e % 10 == 0:\n",
    "        lr *= lr_decay"
   ]
  },
  {
   "cell_type": "code",
   "execution_count": null,
   "metadata": {},
   "outputs": [],
   "source": [
    "y_train_pred=x_train.dot(w)+b\n",
    "y_test_pred=x_test.dot(w)+b\n",
    "display(y_train,y_test,y_train_pred,y_test_pred,loss_history,w,showim=True)"
   ]
  }
 ],
 "metadata": {
  "kernelspec": {
   "display_name": "Python 3",
   "language": "python",
   "name": "python3"
  },
  "language_info": {
   "codemirror_mode": {
    "name": "ipython",
    "version": 3
   },
   "file_extension": ".py",
   "mimetype": "text/x-python",
   "name": "python",
   "nbconvert_exporter": "python",
   "pygments_lexer": "ipython3",
   "version": "3.8.5"
  }
 },
 "nbformat": 4,
 "nbformat_minor": 4
}
